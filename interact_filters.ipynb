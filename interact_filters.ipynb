{
 "metadata": {
  "language_info": {
   "codemirror_mode": {
    "name": "ipython",
    "version": 3
   },
   "file_extension": ".py",
   "mimetype": "text/x-python",
   "name": "python",
   "nbconvert_exporter": "python",
   "pygments_lexer": "ipython3",
   "version": "3.8.3-final"
  },
  "orig_nbformat": 2,
  "kernelspec": {
   "name": "python3",
   "display_name": "Python 3",
   "language": "python"
  }
 },
 "nbformat": 4,
 "nbformat_minor": 2,
 "cells": [
  {
   "source": [
    "### Interact with transmission spectra of waveplate-polarizer filters in lower-dimensional space\n",
    "\n",
    "Run All and scroll to bottom to play with sliders controlling the filter parameters (rotation angles of waveplate(s) and polarizer) and see the changes in the transmission spectra in a lower-dimensional space (from PCA).\n",
    "\n",
    "In the cell after imports, set `basis_2d = True` to see a filter system with 1 waveplate and 1 polarizer (which is 2d in the lower-D space) or set `basis_2d = False` to see a filter system with 2 waveplates and 1 polarizer (which is 4d in the lower-D space).\n",
    "\n",
    "12/29/2020"
   ],
   "cell_type": "markdown",
   "metadata": {}
  },
  {
   "cell_type": "code",
   "execution_count": 1,
   "metadata": {},
   "outputs": [],
   "source": [
    "import numpy as np\n",
    "from sklearn.decomposition import PCA\n",
    "import plotly.graph_objects as go\n",
    "from ipywidgets import widgets, interact\n",
    "\n",
    "from polarization import phase_shift, transmission_mueller"
   ]
  },
  {
   "cell_type": "code",
   "execution_count": 2,
   "metadata": {},
   "outputs": [],
   "source": [
    "# Whether to do 1 waveplate layer (2d basis space) or 2 waveplate layers (4d basis space)\n",
    "basis_2d = True"
   ]
  },
  {
   "cell_type": "code",
   "execution_count": 3,
   "metadata": {},
   "outputs": [],
   "source": [
    "n_wav = 33\n",
    "n_alpha = 20\n",
    "n_theta = 20\n",
    "\n",
    "wavelengths = np.linspace(400., 700., n_wav)\n",
    "alphas = np.linspace(0., 180., n_alpha)\n",
    "thetas = np.linspace(0., 180., n_theta)\n",
    "gammas1 = [phase_shift(w, 66040, 0.01) for w in wavelengths]\n",
    "gammas2 = [phase_shift(w, 78740, 0.01) for w in wavelengths]\n",
    "\n",
    "if basis_2d:\n",
    "    # Create dataset for 1 tape layer\n",
    "    transmissions = np.zeros((n_alpha, n_theta, n_wav))\n",
    "\n",
    "    for w in range(n_wav):\n",
    "        for i in range(n_alpha):\n",
    "            a = np.deg2rad(alphas[i])\n",
    "            for j in range(n_theta):\n",
    "                t = np.deg2rad(thetas[j])\n",
    "                transmissions[i, j, w] = transmission_mueller(gammas1[w], a, t)\n",
    "\n",
    "    transmissions = transmissions.reshape(-1, n_wav)\n",
    "\n",
    "else:\n",
    "    # Create dataset for 2 tape layers\n",
    "    transmissions = np.zeros((n_alpha, n_alpha, n_theta, n_wav))\n",
    "\n",
    "    for w in range(n_wav):\n",
    "        for i in range(n_alpha):\n",
    "            a1 = np.deg2rad(alphas[i])\n",
    "            for j in range(n_alpha):\n",
    "                a2 = np.deg2rad(alphas[j])\n",
    "                for k in range(n_theta):\n",
    "                    t = np.deg2rad(thetas[k])\n",
    "                    transmissions[i, j, k, w] = transmission_mueller([gammas1[w], gammas2[w]], [a1, a2], t)\n",
    "\n",
    "    transmissions = transmissions.reshape(-1, n_wav)"
   ]
  },
  {
   "cell_type": "code",
   "execution_count": 4,
   "metadata": {},
   "outputs": [
    {
     "output_type": "stream",
     "name": "stdout",
     "text": [
      "pca explained variance ratio: [0.67356465 0.32643535]\nsum of pca explained variance ratios: 1.0\n"
     ]
    }
   ],
   "source": [
    "# Create basis functions from dataset\n",
    "pca = PCA(n_components = 2 if basis_2d else 4)\n",
    "pca.fit(transmissions)\n",
    "pca_basis = pca.components_\n",
    "print(\"pca explained variance ratio: \", end = \"\")\n",
    "print(pca.explained_variance_ratio_)\n",
    "print(\"sum of pca explained variance ratios: \", end = \"\")\n",
    "print(np.sum(pca.explained_variance_ratio_))\n",
    "\n",
    "# Project filter transmissions down to basis function coefficients\n",
    "filter_coefs, _, _, _ = np.linalg.lstsq(pca_basis.transpose(), transmissions.transpose(), rcond=None)"
   ]
  },
  {
   "cell_type": "code",
   "execution_count": 5,
   "metadata": {},
   "outputs": [
    {
     "output_type": "display_data",
     "data": {
      "text/plain": "Label(value='[-5.62211663  1.17974769]')",
      "application/vnd.jupyter.widget-view+json": {
       "version_major": 2,
       "version_minor": 0,
       "model_id": "7f6915eb098c4a21af4ba6f78f60b275"
      }
     },
     "metadata": {}
    },
    {
     "output_type": "display_data",
     "data": {
      "text/plain": "VBox(children=(HBox(children=(Label(value='rotation angle of waveplate', layout=Layout(width='250px')), IntSli…",
      "application/vnd.jupyter.widget-view+json": {
       "version_major": 2,
       "version_minor": 0,
       "model_id": "530da5e10890419b87344c5ea4514de0"
      }
     },
     "metadata": {}
    },
    {
     "output_type": "display_data",
     "data": {
      "text/plain": "FigureWidget({\n    'data': [{'marker': {'color': '#cccccc', 'opacity': 0.3, 'size': 5},\n              'mode': …",
      "application/vnd.jupyter.widget-view+json": {
       "version_major": 2,
       "version_minor": 0,
       "model_id": "533e8ae09a014805b87934c4ad41e49c"
      }
     },
     "metadata": {}
    }
   ],
   "source": [
    "alpha1_text = \"rotation angle of waveplate\" if basis_2d else \"rotation angle of waveplate 1\"\n",
    "alpha1_slider = widgets.IntSlider(value = 0, min = 0, max = 180, step = 1, layout = widgets.Layout(width = \"100%\"))\n",
    "alpha1_label = widgets.Label(value = alpha1_text, layout = widgets.Layout(width = \"250px\"))\n",
    "alpha1_box = widgets.HBox([alpha1_label, alpha1_slider])\n",
    "\n",
    "alpha2_slider = widgets.IntSlider(value = 0, min = 0, max = 180, step = 1, layout = widgets.Layout(width = \"100%\"))\n",
    "alpha2_label = widgets.Label(value = \"rotation angle of waveplate 2\", layout = widgets.Layout(width = \"250px\"))\n",
    "alpha2_box = widgets.HBox([alpha2_label, alpha2_slider])\n",
    "\n",
    "theta_slider = widgets.IntSlider(value = 0, min = 0, max = 180, step = 1, layout = widgets.Layout(width = \"100%\"))\n",
    "theta_label = widgets.Label(value = \"rotation angle of polarizer\", layout = widgets.Layout(width = \"250px\"))\n",
    "theta_box = widgets.HBox([theta_label, theta_slider])\n",
    "\n",
    "ui = widgets.VBox([alpha1_box, theta_box]) if basis_2d else widgets.VBox([alpha1_box, alpha2_box, theta_box])\n",
    "\n",
    "if basis_2d:\n",
    "    scatter_all = go.Scatter(\n",
    "        x = filter_coefs[0, :], y = filter_coefs[1, :],\n",
    "        mode = \"markers\",\n",
    "        marker = dict(\n",
    "            size = 5,\n",
    "            color = \"#cccccc\",\n",
    "            opacity = 0.3\n",
    "        )\n",
    "    )\n",
    "\n",
    "    scatter_pt = go.Scatter(\n",
    "        x = [filter_coefs[0, 0]], y = [filter_coefs[1, 0]],\n",
    "        mode = \"markers\",\n",
    "        marker = dict(\n",
    "            size = 10,\n",
    "            color = \"red\",\n",
    "            opacity = 1.0\n",
    "        )\n",
    "    )\n",
    "        \n",
    "    layout = go.Layout(\n",
    "        title = \"dataset of filter transmissions projected onto PCA basis space\",\n",
    "        xaxis_title = \"basis_0\",\n",
    "        yaxis_title = \"basis_1\",\n",
    "        showlegend = False\n",
    "    )\n",
    "else:\n",
    "    scatter_all = go.Scatter3d(\n",
    "        x = filter_coefs[0,:], y = filter_coefs[1,:], z = filter_coefs[2,:],\n",
    "        mode = 'markers',\n",
    "        marker = dict(\n",
    "            size = 3,\n",
    "            color = '#cccccc',\n",
    "            opacity = 0.3\n",
    "        )\n",
    "    )\n",
    "\n",
    "    scatter_pt = go.Scatter3d(\n",
    "        x = [filter_coefs[0,0]], y = [filter_coefs[1,0]], z = [filter_coefs[2,0]],\n",
    "        mode = 'markers',\n",
    "        marker = dict(\n",
    "            size = 7,\n",
    "            color = [filter_coefs[3,0]],\n",
    "            colorbar = dict(\n",
    "                title = 'basis_3'\n",
    "            ),\n",
    "            colorscale = 'Plasma',\n",
    "            cauto = False,\n",
    "            cmin = -1.,\n",
    "            cmax = 1.,\n",
    "            opacity = 1.\n",
    "        )\n",
    "    )\n",
    "\n",
    "    layout = go.Layout(\n",
    "        title = \"dataset of filter transmissions projected onto PCA basis space\",\n",
    "        height = 800,\n",
    "        scene_xaxis_title = \"basis_0\",\n",
    "        scene_yaxis_title = \"basis_1\",\n",
    "        scene_zaxis_title = \"basis_2\",\n",
    "        showlegend = False\n",
    "    )\n",
    "\n",
    "fig = go.FigureWidget(data = [scatter_all, scatter_pt], layout = layout)\n",
    "coefs_label = widgets.Label(value = str(filter_coefs[:,0]))\n",
    "\n",
    "def update(alpha1_slider, alpha2_slider, theta_slider):\n",
    "    transmission_new = np.zeros(n_wav)\n",
    "\n",
    "    if basis_2d:\n",
    "        for w in range(n_wav):\n",
    "            transmission_new[w] = transmission_mueller(gammas1[w], np.deg2rad(alpha1_slider), np.deg2rad(theta_slider))\n",
    "    else:\n",
    "        for w in range(n_wav):\n",
    "            transmission_new[w] = transmission_mueller([gammas1[w], gammas2[w]], [np.deg2rad(alpha1_slider), np.deg2rad(alpha2_slider)], np.deg2rad(theta_slider))\n",
    "\n",
    "    coefs_new, _, _, _ = np.linalg.lstsq(pca_basis.transpose(), transmission_new, rcond=None)\n",
    "    coefs_label.value = str(coefs_new)\n",
    "\n",
    "    with fig.batch_update():\n",
    "        fig.data[1].x = [coefs_new[0]]\n",
    "        fig.data[1].y = [coefs_new[1]]\n",
    "\n",
    "        if not basis_2d:\n",
    "            fig.data[1].z = [coefs_new[2]]\n",
    "            fig.data[1].marker.color = [coefs_new[3]]\n",
    "\n",
    "out = widgets.interactive_output(update, {'alpha1_slider': alpha1_slider, 'alpha2_slider': alpha2_slider, 'theta_slider': theta_slider})\n",
    "display(coefs_label)\n",
    "display(ui)\n",
    "fig"
   ]
  },
  {
   "cell_type": "code",
   "execution_count": null,
   "metadata": {},
   "outputs": [],
   "source": []
  }
 ]
}