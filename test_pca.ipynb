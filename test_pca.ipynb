{
 "cells": [
  {
   "cell_type": "code",
   "execution_count": 1,
   "metadata": {},
   "outputs": [],
   "source": [
    "import numpy as np\n",
    "from sklearn.decomposition import PCA\n",
    "from scipy.interpolate import interp1d as interp1d\n",
    "\n",
    "import plotly.graph_objects as go\n",
    "from plotly.subplots import make_subplots\n",
    "from ipywidgets import widgets, interact\n",
    "\n",
    "import color_utils"
   ]
  },
  {
   "cell_type": "code",
   "execution_count": 2,
   "metadata": {},
   "outputs": [],
   "source": [
    "def spec2spec(wavelengths1, values1, wavelengths2):\n",
    "    \"\"\" Interpolate a spectrum sampled with intervals wavelengths1 to intervals wavelengths2. \"\"\"\n",
    "    interp_spec = interp1d(wavelengths1, values1, kind='cubic', bounds_error=False, fill_value='extrapolate')\n",
    "    return interp_spec(wavelengths2)"
   ]
  },
  {
   "cell_type": "code",
   "execution_count": 3,
   "metadata": {},
   "outputs": [],
   "source": [
    "WAVELENGTHS = np.linspace(400., 700., 33)\n",
    "WP1_DATASET = np.load('data/wp-1.npy')\n",
    "WP2_DATASET = np.load('data/wp-2.npy')\n",
    "WP3_DATASET = np.load('data/wp-3.npy')\n",
    "\n",
    "SENSOR_DATABASE_WAVELENGTHS = np.linspace(400., 720., 33)\n",
    "NIKON_RESPONSE = color_utils.spec2spec(SENSOR_DATABASE_WAVELENGTHS, np.load('data/nikon5100.npy'), WAVELENGTHS)"
   ]
  },
  {
   "cell_type": "code",
   "execution_count": 4,
   "metadata": {},
   "outputs": [
    {
     "data": {
      "application/vnd.jupyter.widget-view+json": {
       "model_id": "8dfb177d9809411eb44a4a08e06ae9a1",
       "version_major": 2,
       "version_minor": 0
      },
      "text/plain": [
       "VBox(children=(Label(value='Number of distinct waveplate layers in filter (DOF - 1, distinct meaning they have…"
      ]
     },
     "metadata": {},
     "output_type": "display_data"
    },
    {
     "data": {
      "application/vnd.jupyter.widget-view+json": {
       "model_id": "052bf300e2ee480ab7e60426f22fd713",
       "version_major": 2,
       "version_minor": 0
      },
      "text/plain": [
       "FigureWidget({\n",
       "    'data': [{'mode': 'lines',\n",
       "              'name': 'basis 1',\n",
       "              'type': 'scatter'…"
      ]
     },
     "metadata": {},
     "output_type": "display_data"
    }
   ],
   "source": [
    "wp_label = widgets.Label(value = 'Number of distinct waveplate layers in filter (DOF - 1, distinct meaning they have different properties):', layout = widgets.Layout(width = \"99%\"))\n",
    "wp_rb = widgets.RadioButtons(options = ['1', '2', '3'], value = '2', disabled = False, layout = widgets.Layout(width = \"99%\"))\n",
    "\n",
    "sensor_label = widgets.Label(value = 'Multiply filter spectra by Nikon sensor responses before running PCA: ', layout = widgets.Layout(width = \"45%\"))\n",
    "sensor_cb = widgets.Checkbox(description = '', value = False, disabled = False)\n",
    "\n",
    "basis_label = widgets.Label(value = 'Show basis function: ', layout = widgets.Layout(width = \"40%\"))\n",
    "basis_cb1 = widgets.Checkbox(description = '1', value = True, disabled = False)\n",
    "basis_cb2 = widgets.Checkbox(description = '2', value = True, disabled = False)\n",
    "basis_cb3 = widgets.Checkbox(description = '3', value = True, disabled = False)\n",
    "basis_cb4 = widgets.Checkbox(description = '4', value = True, disabled = False)\n",
    "basis_cb5 = widgets.Checkbox(description = '5', value = False, disabled = False)\n",
    "basis_cb6 = widgets.Checkbox(description = '6', value = False, disabled = False)\n",
    "basis_cb7 = widgets.Checkbox(description = '7', value = False, disabled = False)\n",
    "basis_cb8 = widgets.Checkbox(description = '8', value = False, disabled = False)\n",
    "basis_row = widgets.HBox([basis_cb1, basis_cb2, basis_cb3, basis_cb4, basis_cb5, basis_cb6, basis_cb7, basis_cb8])\n",
    "\n",
    "ev_label = widgets.Label(value = 'Explained variance % for basis functions 1-8: ')\n",
    "ev_value = widgets.Label(value = '')\n",
    "\n",
    "pc_label = widgets.Label(value = 'Total explained variance % for *selected* basis functions: ')\n",
    "pc_value = widgets.Label(value = '')\n",
    "\n",
    "ui = widgets.VBox([wp_label, wp_rb, sensor_label, sensor_cb, basis_label, basis_row, ev_label, ev_value, pc_label, pc_value])\n",
    "\n",
    "plots = []\n",
    "\n",
    "for i in range(8):\n",
    "    scatter = go.Scatter(x = WAVELENGTHS, y = np.array([]), \n",
    "                         mode = 'lines',\n",
    "                         name = 'basis ' + str(i+1))\n",
    "    \n",
    "    plots.append(scatter)\n",
    "\n",
    "layout = go.Layout(\n",
    "             margin = dict(l=0, r=0, b=0, t=0),\n",
    "             xaxis_title = 'wavelength (nm)',\n",
    "             yaxis_title = 'basis function value'\n",
    "         )\n",
    "\n",
    "fig = go.FigureWidget(data = plots, layout = layout)\n",
    "\n",
    "def update(sensor_cb, waveplate_rb, basis_cb1, basis_cb2, basis_cb3, basis_cb4, \n",
    "           basis_cb5, basis_cb6, basis_cb7, basis_cb8):\n",
    "    basis_cb = [basis_cb1, basis_cb2, basis_cb3, basis_cb4, basis_cb5, basis_cb6, basis_cb7, basis_cb8]\n",
    "    pca = PCA(n_components = 8)\n",
    "    \n",
    "    if waveplate_rb == '1':\n",
    "        spectra = WP1_DATASET\n",
    "    elif waveplate_rb == '2':\n",
    "        spectra = WP2_DATASET\n",
    "    else:\n",
    "        spectra = WP3_DATASET\n",
    "        \n",
    "    if sensor_cb:\n",
    "        spectra = spectra.repeat(3, axis = 0) * np.tile(NIKON_RESPONSE, reps = (spectra.shape[0], 1))\n",
    "    \n",
    "    pca.fit(spectra)\n",
    "    \n",
    "    ev_sum = 0.\n",
    "    ev_new = '['\n",
    "    for i in range(8):\n",
    "        if basis_cb[i]:\n",
    "            ev_sum += pca.explained_variance_ratio_[i]\n",
    "            \n",
    "        ev_new += '{:.2f}%'.format(pca.explained_variance_ratio_[i] * 100.)\n",
    "            \n",
    "        if i < 7:\n",
    "            ev_new += ', '\n",
    "            \n",
    "    ev_new += ']'\n",
    "    ev_value.value = ev_new\n",
    "    pc_value.value = '{:.2f}%'.format(ev_sum * 100.)\n",
    "\n",
    "    with fig.batch_update():\n",
    "        for i in range(8):\n",
    "            if basis_cb[i]:\n",
    "                fig.data[i].y = pca.components_[i,:]\n",
    "            else:\n",
    "                fig.data[i].y = np.array([])\n",
    "\n",
    "out = widgets.interactive_output(update, {'sensor_cb': sensor_cb, 'waveplate_rb': wp_rb,\n",
    "                                          'basis_cb1': basis_cb1, 'basis_cb2': basis_cb2, 'basis_cb3': basis_cb3, 'basis_cb4': basis_cb4,\n",
    "                                          'basis_cb5': basis_cb5, 'basis_cb6': basis_cb6, 'basis_cb7': basis_cb7, 'basis_cb8': basis_cb8})\n",
    "\n",
    "display(ui)\n",
    "fig"
   ]
  },
  {
   "cell_type": "code",
   "execution_count": null,
   "metadata": {},
   "outputs": [],
   "source": []
  }
 ],
 "metadata": {
  "kernelspec": {
   "display_name": "Python 3",
   "language": "python",
   "name": "python3"
  },
  "language_info": {
   "codemirror_mode": {
    "name": "ipython",
    "version": 3
   },
   "file_extension": ".py",
   "mimetype": "text/x-python",
   "name": "python",
   "nbconvert_exporter": "python",
   "pygments_lexer": "ipython3",
   "version": "3.8.3"
  }
 },
 "nbformat": 4,
 "nbformat_minor": 2
}
